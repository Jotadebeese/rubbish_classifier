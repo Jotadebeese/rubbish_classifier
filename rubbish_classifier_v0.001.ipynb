{
 "cells": [
  {
   "attachments": {},
   "cell_type": "markdown",
   "metadata": {},
   "source": [
    "# Rubbish Classifier\n",
    "\n",
    "This is the first attend to create a rubbish classifier by creating a Deep Learning model using computer vision."
   ]
  }
 ],
 "metadata": {
  "language_info": {
   "name": "python"
  },
  "orig_nbformat": 4
 },
 "nbformat": 4,
 "nbformat_minor": 2
}
